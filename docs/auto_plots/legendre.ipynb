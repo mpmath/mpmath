{
  "cells": [
    {
      "cell_type": "markdown",
      "metadata": {},
      "source": [
        "\n# Legendre polynomials `P_n(x)` on [-1,1] for n=0,1,2,3,4.\n"
      ]
    },
    {
      "cell_type": "code",
      "execution_count": null,
      "metadata": {
        "collapsed": false
      },
      "outputs": [],
      "source": [
        "from mpmath import *\nf0 = lambda x: legendre(0,x)\nf1 = lambda x: legendre(1,x)\nf2 = lambda x: legendre(2,x)\nf3 = lambda x: legendre(3,x)\nf4 = lambda x: legendre(4,x)\nplot([f0,f1,f2,f3,f4],[-1,1])"
      ]
    }
  ],
  "metadata": {
    "kernelspec": {
      "display_name": "Python 3",
      "language": "python",
      "name": "python3"
    },
    "language_info": {
      "codemirror_mode": {
        "name": "ipython",
        "version": 3
      },
      "file_extension": ".py",
      "mimetype": "text/x-python",
      "name": "python",
      "nbconvert_exporter": "python",
      "pygments_lexer": "ipython3",
      "version": "3.13.1"
    }
  },
  "nbformat": 4,
  "nbformat_minor": 0
}
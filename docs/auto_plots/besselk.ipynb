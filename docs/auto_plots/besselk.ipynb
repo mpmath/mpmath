{
  "cells": [
    {
      "cell_type": "markdown",
      "metadata": {},
      "source": [
        "\n# Modified Bessel function of 2nd kind `K_n(x)` on the real line for n=0,1,2,3.\n"
      ]
    },
    {
      "cell_type": "code",
      "execution_count": null,
      "metadata": {
        "collapsed": false
      },
      "outputs": [],
      "source": [
        "from mpmath import *\nk0 = lambda x: besselk(0,x)\nk1 = lambda x: besselk(1,x)\nk2 = lambda x: besselk(2,x)\nk3 = lambda x: besselk(3,x)\nplot([k0,k1,k2,k3],[0,8],[0,5])"
      ]
    }
  ],
  "metadata": {
    "kernelspec": {
      "display_name": "Python 3",
      "language": "python",
      "name": "python3"
    },
    "language_info": {
      "codemirror_mode": {
        "name": "ipython",
        "version": 3
      },
      "file_extension": ".py",
      "mimetype": "text/x-python",
      "name": "python",
      "nbconvert_exporter": "python",
      "pygments_lexer": "ipython3",
      "version": "3.13.1"
    }
  },
  "nbformat": 4,
  "nbformat_minor": 0
}
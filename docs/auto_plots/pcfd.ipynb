{
  "cells": [
    {
      "cell_type": "markdown",
      "metadata": {},
      "source": [
        "\n# Parabolic cylinder function `D_n(x)` on the real line for n=0,1,2,3,4.\n"
      ]
    },
    {
      "cell_type": "code",
      "execution_count": null,
      "metadata": {
        "collapsed": false
      },
      "outputs": [],
      "source": [
        "from mpmath import *\nd0 = lambda x: pcfd(0,x)\nd1 = lambda x: pcfd(1,x)\nd2 = lambda x: pcfd(2,x)\nd3 = lambda x: pcfd(3,x)\nd4 = lambda x: pcfd(4,x)\nplot([d0,d1,d2,d3,d4],[-7,7])"
      ]
    }
  ],
  "metadata": {
    "kernelspec": {
      "display_name": "Python 3",
      "language": "python",
      "name": "python3"
    },
    "language_info": {
      "codemirror_mode": {
        "name": "ipython",
        "version": 3
      },
      "file_extension": ".py",
      "mimetype": "text/x-python",
      "name": "python",
      "nbconvert_exporter": "python",
      "pygments_lexer": "ipython3",
      "version": "3.13.1"
    }
  },
  "nbformat": 4,
  "nbformat_minor": 0
}
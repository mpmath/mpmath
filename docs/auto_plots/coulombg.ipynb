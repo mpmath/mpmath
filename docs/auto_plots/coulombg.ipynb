{
  "cells": [
    {
      "cell_type": "markdown",
      "metadata": {},
      "source": [
        "\n# Irregular Coulomb wave functions -- equivalent to figure 14.5 in A&S.\n"
      ]
    },
    {
      "cell_type": "code",
      "execution_count": null,
      "metadata": {
        "collapsed": false
      },
      "outputs": [],
      "source": [
        "from mpmath import *\nF1 = lambda x: coulombg(0,0,x)\nF2 = lambda x: coulombg(0,1,x)\nF3 = lambda x: coulombg(0,5,x)\nF4 = lambda x: coulombg(0,10,x)\nF5 = lambda x: coulombg(0,x/2,x)\nplot([F1,F2,F3,F4,F5], [0,30], [-2,2])"
      ]
    }
  ],
  "metadata": {
    "kernelspec": {
      "display_name": "Python 3",
      "language": "python",
      "name": "python3"
    },
    "language_info": {
      "codemirror_mode": {
        "name": "ipython",
        "version": 3
      },
      "file_extension": ".py",
      "mimetype": "text/x-python",
      "name": "python",
      "nbconvert_exporter": "python",
      "pygments_lexer": "ipython3",
      "version": "3.13.1"
    }
  },
  "nbformat": 4,
  "nbformat_minor": 0
}
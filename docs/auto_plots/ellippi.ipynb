{
  "cells": [
    {
      "cell_type": "markdown",
      "metadata": {},
      "source": [
        "\n# Elliptic integral `Pi(n,z,m)` for some different `n`, `m`.\n"
      ]
    },
    {
      "cell_type": "code",
      "execution_count": null,
      "metadata": {
        "collapsed": false
      },
      "outputs": [],
      "source": [
        "from mpmath import *\nf1 = lambda z: ellippi(0.9,z,0.9)\nf2 = lambda z: ellippi(0.5,z,0.5)\nf3 = lambda z: ellippi(-2,z,-0.9)\nf4 = lambda z: ellippi(-0.5,z,0.5)\nf5 = lambda z: ellippi(-1,z,0.5)\nplot([f1,f2,f3,f4,f5], [0,pi], [0,4])"
      ]
    }
  ],
  "metadata": {
    "kernelspec": {
      "display_name": "Python 3",
      "language": "python",
      "name": "python3"
    },
    "language_info": {
      "codemirror_mode": {
        "name": "ipython",
        "version": 3
      },
      "file_extension": ".py",
      "mimetype": "text/x-python",
      "name": "python",
      "nbconvert_exporter": "python",
      "pygments_lexer": "ipython3",
      "version": "3.13.1"
    }
  },
  "nbformat": 4,
  "nbformat_minor": 0
}
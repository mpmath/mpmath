{
  "cells": [
    {
      "cell_type": "markdown",
      "metadata": {},
      "source": [
        "\n# Real part of spherical harmonic `Y_{(4,3)}(\\theta,\\phi)`.\n"
      ]
    },
    {
      "cell_type": "code",
      "execution_count": null,
      "metadata": {
        "collapsed": false
      },
      "outputs": [],
      "source": [
        "from mpmath import *\ndef Y(l,m):\n    def g(theta,phi):\n        R = abs(fp.re(fp.spherharm(l,m,theta,phi)))\n        x = R*fp.cos(phi)*fp.sin(theta)\n        y = R*fp.sin(phi)*fp.sin(theta)\n        z = R*fp.cos(theta)\n        return [x,y,z]\n    return g\n\nfp.splot(Y(4,3), [0,fp.pi], [0,2*fp.pi], points=300)"
      ]
    }
  ],
  "metadata": {
    "kernelspec": {
      "display_name": "Python 3",
      "language": "python",
      "name": "python3"
    },
    "language_info": {
      "codemirror_mode": {
        "name": "ipython",
        "version": 3
      },
      "file_extension": ".py",
      "mimetype": "text/x-python",
      "name": "python",
      "nbconvert_exporter": "python",
      "pygments_lexer": "ipython3",
      "version": "3.13.1"
    }
  },
  "nbformat": 4,
  "nbformat_minor": 0
}
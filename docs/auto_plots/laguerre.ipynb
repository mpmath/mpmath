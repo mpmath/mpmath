{
  "cells": [
    {
      "cell_type": "markdown",
      "metadata": {},
      "source": [
        "\n# Hermite polynomials `L_n(x)` on the real line for n=0,1,2,3,4.\n"
      ]
    },
    {
      "cell_type": "code",
      "execution_count": null,
      "metadata": {
        "collapsed": false
      },
      "outputs": [],
      "source": [
        "from mpmath import *\nf0 = lambda x: laguerre(0,0,x)\nf1 = lambda x: laguerre(1,0,x)\nf2 = lambda x: laguerre(2,0,x)\nf3 = lambda x: laguerre(3,0,x)\nf4 = lambda x: laguerre(4,0,x)\nplot([f0,f1,f2,f3,f4],[0,10],[-10,10])"
      ]
    }
  ],
  "metadata": {
    "kernelspec": {
      "display_name": "Python 3",
      "language": "python",
      "name": "python3"
    },
    "language_info": {
      "codemirror_mode": {
        "name": "ipython",
        "version": 3
      },
      "file_extension": ".py",
      "mimetype": "text/x-python",
      "name": "python",
      "nbconvert_exporter": "python",
      "pygments_lexer": "ipython3",
      "version": "3.13.1"
    }
  },
  "nbformat": 4,
  "nbformat_minor": 0
}
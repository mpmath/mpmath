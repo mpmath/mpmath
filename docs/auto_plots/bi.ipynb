{
  "cells": [
    {
      "cell_type": "markdown",
      "metadata": {},
      "source": [
        "\n# Airy function `Bi(x)`, `Bi'(x)` and `int_0^x Bi(t) dt` on the real line.\n"
      ]
    },
    {
      "cell_type": "code",
      "execution_count": null,
      "metadata": {
        "collapsed": false
      },
      "outputs": [],
      "source": [
        "from mpmath import *\nf = airybi\nf_diff = lambda z: airybi(z, derivative=1)\nf_int = lambda z: airybi(z, derivative=-1)\nplot([f, f_diff, f_int], [-10,2], [-1,2])"
      ]
    }
  ],
  "metadata": {
    "kernelspec": {
      "display_name": "Python 3",
      "language": "python",
      "name": "python3"
    },
    "language_info": {
      "codemirror_mode": {
        "name": "ipython",
        "version": 3
      },
      "file_extension": ".py",
      "mimetype": "text/x-python",
      "name": "python",
      "nbconvert_exporter": "python",
      "pygments_lexer": "ipython3",
      "version": "3.13.1"
    }
  },
  "nbformat": 4,
  "nbformat_minor": 0
}
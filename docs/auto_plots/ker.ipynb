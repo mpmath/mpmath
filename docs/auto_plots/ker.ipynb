{
  "cells": [
    {
      "cell_type": "markdown",
      "metadata": {},
      "source": [
        "\n# Kelvin functions `ker_n(x)` and `kei_n(x)` on the real line for n=0,2.\n"
      ]
    },
    {
      "cell_type": "code",
      "execution_count": null,
      "metadata": {
        "collapsed": false
      },
      "outputs": [],
      "source": [
        "from mpmath import *\nf0 = lambda x: ker(0,x)\nf1 = lambda x: kei(0,x)\nf2 = lambda x: ker(2,x)\nf3 = lambda x: kei(2,x)\nplot([f0,f1,f2,f3],[0,5],[-1,4])"
      ]
    }
  ],
  "metadata": {
    "kernelspec": {
      "display_name": "Python 3",
      "language": "python",
      "name": "python3"
    },
    "language_info": {
      "codemirror_mode": {
        "name": "ipython",
        "version": 3
      },
      "file_extension": ".py",
      "mimetype": "text/x-python",
      "name": "python",
      "nbconvert_exporter": "python",
      "pygments_lexer": "ipython3",
      "version": "3.13.1"
    }
  },
  "nbformat": 4,
  "nbformat_minor": 0
}
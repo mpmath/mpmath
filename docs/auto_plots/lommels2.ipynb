{
  "cells": [
    {
      "cell_type": "markdown",
      "metadata": {},
      "source": [
        "\n# Lommel function `S_{(u,v)}(x)` on the real line for a few different `u`,`v`.\n"
      ]
    },
    {
      "cell_type": "code",
      "execution_count": null,
      "metadata": {
        "collapsed": false
      },
      "outputs": [],
      "source": [
        "from mpmath import *\nf1 = lambda x: lommels2(-1,2.5,x)\nf2 = lambda x: lommels2(1.5,2,x)\nf3 = lambda x: lommels2(2.5,1,x)\nf4 = lambda x: lommels2(3.5,-0.5,x)\nplot([f1,f2,f3,f4], [0,8], [-8,8])"
      ]
    }
  ],
  "metadata": {
    "kernelspec": {
      "display_name": "Python 3",
      "language": "python",
      "name": "python3"
    },
    "language_info": {
      "codemirror_mode": {
        "name": "ipython",
        "version": 3
      },
      "file_extension": ".py",
      "mimetype": "text/x-python",
      "name": "python",
      "nbconvert_exporter": "python",
      "pygments_lexer": "ipython3",
      "version": "3.13.1"
    }
  },
  "nbformat": 4,
  "nbformat_minor": 0
}
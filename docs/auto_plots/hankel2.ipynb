{
  "cells": [
    {
      "cell_type": "markdown",
      "metadata": {},
      "source": [
        "\n# Hankel function `H2_n(x)` on the real line for n=0,1,2,3.\n"
      ]
    },
    {
      "cell_type": "code",
      "execution_count": null,
      "metadata": {
        "collapsed": false
      },
      "outputs": [],
      "source": [
        "from mpmath import *\nh0 = lambda x: hankel2(0,x)\nh1 = lambda x: hankel2(1,x)\nh2 = lambda x: hankel2(2,x)\nh3 = lambda x: hankel2(3,x)\nplot([h0,h1,h2,h3],[0,6],[-1,2])"
      ]
    }
  ],
  "metadata": {
    "kernelspec": {
      "display_name": "Python 3",
      "language": "python",
      "name": "python3"
    },
    "language_info": {
      "codemirror_mode": {
        "name": "ipython",
        "version": 3
      },
      "file_extension": ".py",
      "mimetype": "text/x-python",
      "name": "python",
      "nbconvert_exporter": "python",
      "pygments_lexer": "ipython3",
      "version": "3.13.1"
    }
  },
  "nbformat": 4,
  "nbformat_minor": 0
}
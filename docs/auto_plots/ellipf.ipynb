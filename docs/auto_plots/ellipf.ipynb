{
  "cells": [
    {
      "cell_type": "markdown",
      "metadata": {},
      "source": [
        "\n# Elliptic integral `F(z,m)` for some different `m`.\n"
      ]
    },
    {
      "cell_type": "code",
      "execution_count": null,
      "metadata": {
        "collapsed": false
      },
      "outputs": [],
      "source": [
        "from mpmath import *\nf1 = lambda z: ellipf(z,-1)\nf2 = lambda z: ellipf(z,-0.5)\nf3 = lambda z: ellipf(z,0)\nf4 = lambda z: ellipf(z,0.5)\nf5 = lambda z: ellipf(z,1)\nplot([f1,f2,f3,f4,f5], [0,pi], [0,4])"
      ]
    }
  ],
  "metadata": {
    "kernelspec": {
      "display_name": "Python 3",
      "language": "python",
      "name": "python3"
    },
    "language_info": {
      "codemirror_mode": {
        "name": "ipython",
        "version": 3
      },
      "file_extension": ".py",
      "mimetype": "text/x-python",
      "name": "python",
      "nbconvert_exporter": "python",
      "pygments_lexer": "ipython3",
      "version": "3.13.1"
    }
  },
  "nbformat": 4,
  "nbformat_minor": 0
}